{
 "cells": [
  {
   "cell_type": "code",
   "execution_count": 120,
   "metadata": {},
   "outputs": [],
   "source": [
    "from selenium import webdriver\n",
    "from selenium.webdriver.common.keys import Keys\n",
    "from selenium.webdriver.common.by import By\n",
    "import pandas as pd\n",
    "import time\n",
    "from tqdm import tqdm\n",
    "from selenium.webdriver.common.action_chains import ActionChains\n",
    "from selenium.common.exceptions import StaleElementReferenceException\n",
    "\n",
    "driver = webdriver.Chrome()\n",
    "driver.get(\"https://slmis.xu.edu.ph/\")"
   ]
  },
  {
   "cell_type": "markdown",
   "metadata": {},
   "source": [
    "# Getting Class Roster"
   ]
  },
  {
   "cell_type": "code",
   "execution_count": 121,
   "metadata": {},
   "outputs": [],
   "source": [
    "from selenium.common.exceptions import NoSuchElementException, TimeoutException\n",
    "from selenium.webdriver.support import expected_conditions as EC\n",
    "from selenium.webdriver.support.ui import WebDriverWait\n",
    "def go_to_home_page():\n",
    "    driver.get(\"https://slmis.xu.edu.ph/psp/ps/EMPLOYEE/HRMS/s/WEBLIB_PTPP_SC.HOMEPAGE.FieldFormula.IScript_AppHP?pt_fname=CO_EMPLOYEE_SELF_SERVICE&amp;FolderPath=PORTAL_ROOT_OBJECT.CO_EMPLOYEE_SELF_SERVICE&amp;IsFolder=true\")\n",
    "\n",
    "def check_if_loaded(by, filter):\n",
    "    try:    \n",
    "        element_present = EC.presence_of_element_located((by, filter))\n",
    "        WebDriverWait(driver, 10).until(element_present)\n",
    "    except TimeoutException:\n",
    "        print(\"Took too long to load\")\n",
    "def get_faculty_schedule():\n",
    "    go_to_home_page()\n",
    "    #Going to faculty center\n",
    "    check_if_loaded(By.XPATH, '//*[@id=\"ptifrmtgtframe\"]')\n",
    "    faculty_center = driver.find_element(By.XPATH, '//*[@id=\"ptifrmtgtframe\"]')\n",
    "    driver.switch_to.frame(faculty_center)\n",
    "    faculty_center_button = driver.find_element(By.XPATH, '//*[@id=\"ptppscappnavtbl\"]/tbody/tr/td/table/tbody/tr[3]/td/table/tbody/tr[2]/td/table/tbody/tr[2]/td[2]/table/tbody/tr/td/table/tbody/tr[2]/td/ul/li[1]/a')\n",
    "    faculty_center_button.click()\n",
    "    driver.switch_to.default_content()\n",
    "    #Techhing schedule\n",
    "    check_if_loaded(By.XPATH, '//*[@id=\"ptifrmtgtframe\"]')\n",
    "    teaching_schedule = driver.find_element(By.XPATH, '//*[@id=\"ptifrmtgtframe\"]')\n",
    "    driver.switch_to.frame(teaching_schedule)\n",
    "    main_table = driver.find_element(By.XPATH,'//*[@id=\"INSTR_CLASS_VW$scroll$0\"]/tbody/tr[1]/td/table')\n",
    "    all_rows = main_table.find_elements(By.TAG_NAME, \"tr\")\n",
    "\n",
    "    r = all_rows[1]\n",
    "    courses_dictionary = {}\n",
    "    for r in tqdm(all_rows):\n",
    "        all_cells = r.find_elements(By.TAG_NAME, \"td\")\n",
    "        #Get the name of the course\n",
    "\n",
    "        for cell in all_cells:\n",
    "            try:\n",
    "                cell_element = cell.find_element(By.TAG_NAME, \"span\")\n",
    "                if \"CLASS_TIT\" in cell_element.get_attribute('id'):\n",
    "                    course_element = cell_element.find_element(By.TAG_NAME, \"a\")\n",
    "                    course_name = course_element.get_attribute('innerHTML')\n",
    "                    courses_dictionary[course_name] = r\n",
    "            except NoSuchElementException:\n",
    "                continue\n",
    "    return courses_dictionary\n",
    "\n",
    "def authentication(username, password):\n",
    "    try:\n",
    "        user_element = driver.find_element(By.XPATH, '//*[@id=\"userid\"]')\n",
    "        pass_element = driver.find_element(By.XPATH, '//*[@id=\"pwd\"]')\n",
    "        ActionChains(driver) \\\n",
    "            .click(user_element) \\\n",
    "            .key_down(Keys.CONTROL) \\\n",
    "            .send_keys(\"a\") \\\n",
    "            .key_up(Keys.CONTROL) \\\n",
    "            .send_keys(username)\\\n",
    "            .click(pass_element) \\\n",
    "            .key_down(Keys.CONTROL) \\\n",
    "            .send_keys(\"a\") \\\n",
    "            .key_up(Keys.CONTROL) \\\n",
    "            .send_keys(password)\\\n",
    "            .key_down(Keys.ENTER) \\\n",
    "            .perform()\n",
    "        \n",
    "        if \"errorCode\" in driver.current_url:\n",
    "            print(\"Authentication Failed\")\n",
    "            return False\n",
    "        return True\n",
    "    except NoSuchElementException:\n",
    "        print(\"Already Logged in\")\n",
    "    "
   ]
  },
  {
   "cell_type": "code",
   "execution_count": 122,
   "metadata": {},
   "outputs": [
    {
     "data": {
      "text/plain": [
       "True"
      ]
     },
     "execution_count": 122,
     "metadata": {},
     "output_type": "execute_result"
    }
   ],
   "source": [
    "authentication('gsulay', '{4_k66iI')"
   ]
  },
  {
   "cell_type": "code",
   "execution_count": 116,
   "metadata": {},
   "outputs": [],
   "source": [
    "go_to_home_page()"
   ]
  },
  {
   "cell_type": "code",
   "execution_count": 123,
   "metadata": {},
   "outputs": [
    {
     "name": "stderr",
     "output_type": "stream",
     "text": [
      "100%|██████████| 8/8 [00:02<00:00,  3.53it/s]\n"
     ]
    }
   ],
   "source": [
    "courses_dictionary = get_faculty_schedule()"
   ]
  },
  {
   "cell_type": "code",
   "execution_count": 125,
   "metadata": {},
   "outputs": [
    {
     "name": "stdout",
     "output_type": "stream",
     "text": [
      "CE 17-A (3366)\n",
      "CE 17-LA (3367)\n",
      "CE 23-L B2 (1909)\n",
      "CE 26.1-LB2 (1602)\n",
      "ESC 12-B1 (1433)\n",
      "ESC 12-B3 (1930)\n",
      "ESC 12-B4 (1439)\n"
     ]
    }
   ],
   "source": [
    "view_cleaner = lambda val: val.replace(\"<br>\\n\",\" \").replace(\"   \",\" \")\n",
    "for i in courses_dictionary.keys():\n",
    "    print(view_cleaner(i))"
   ]
  },
  {
   "cell_type": "code",
   "execution_count": 61,
   "metadata": {},
   "outputs": [
    {
     "data": {
      "text/plain": [
       "[\"'CE   17-A\", '  (3366)']"
      ]
     },
     "execution_count": 61,
     "metadata": {},
     "output_type": "execute_result"
    }
   ],
   "source": [
    "raw_text = split('<br>\\n')"
   ]
  },
  {
   "cell_type": "code",
   "execution_count": null,
   "metadata": {},
   "outputs": [],
   "source": [
    "class SLMISHandler:\n",
    "    def __init__(self):\n",
    "        self.driver = webdriver.Chrome()\n",
    "        \n",
    "    def go_to_home_page(self):\n",
    "        driver.get(\"https://slmis.xu.edu.ph/psp/ps/EMPLOYEE/HRMS/s/WEBLIB_PTPP_SC.HOMEPAGE.FieldFormula.IScript_AppHP?pt_fname=CO_EMPLOYEE_SELF_SERVICE&amp;FolderPath=PORTAL_ROOT_OBJECT.CO_EMPLOYEE_SELF_SERVICE&amp;IsFolder=true\")\n",
    "\n",
    "    def check_if_loaded(self,by, filter):\n",
    "        try:    \n",
    "            element_present = EC.presence_of_element_located((by, filter))\n",
    "            WebDriverWait(driver, 10).until(element_present)\n",
    "        except TimeoutException:\n",
    "            print(\"Took too long to load\")\n",
    "    def get_faculty_schedule(self):\n",
    "        self.go_to_home_page()\n",
    "        #Going to faculty center\n",
    "        self.check_if_loaded(By.XPATH, '//*[@id=\"ptifrmtgtframe\"]')\n",
    "        faculty_center = driver.find_element(By.XPATH, '//*[@id=\"ptifrmtgtframe\"]')\n",
    "        driver.switch_to.frame(faculty_center)\n",
    "        faculty_center_button = driver.find_element(By.XPATH, '//*[@id=\"ptppscappnavtbl\"]/tbody/tr/td/table/tbody/tr[3]/td/table/tbody/tr[2]/td/table/tbody/tr[2]/td[2]/table/tbody/tr/td/table/tbody/tr[2]/td/ul/li[1]/a')\n",
    "        faculty_center_button.click()\n",
    "        driver.switch_to.default_content()\n",
    "        #Techhing schedule\n",
    "        self.check_if_loaded(By.XPATH, '//*[@id=\"ptifrmtgtframe\"]')\n",
    "        teaching_schedule = driver.find_element(By.XPATH, '//*[@id=\"ptifrmtgtframe\"]')\n",
    "        driver.switch_to.frame(teaching_schedule)\n",
    "        main_table = driver.find_element(By.XPATH,'//*[@id=\"INSTR_CLASS_VW$scroll$0\"]/tbody/tr[1]/td/table')\n",
    "        all_rows = main_table.find_elements(By.TAG_NAME, \"tr\")\n",
    "\n",
    "        r = all_rows[1]\n",
    "        courses_dictionary = {}\n",
    "        for r in tqdm(all_rows):\n",
    "            all_cells = r.find_elements(By.TAG_NAME, \"td\")\n",
    "            #Get the name of the course\n",
    "\n",
    "            for cell in all_cells:\n",
    "                try:\n",
    "                    cell_element = cell.find_element(By.TAG_NAME, \"span\")\n",
    "                    if \"CLASS_TIT\" in cell_element.get_attribute('id'):\n",
    "                        course_element = cell_element.find_element(By.TAG_NAME, \"a\")\n",
    "                        course_name = course_element.get_attribute('innerHTML')\n",
    "                        courses_dictionary[course_name] = r\n",
    "                except NoSuchElementException:\n",
    "                    continue\n",
    "        return courses_dictionary\n",
    "\n",
    "    def authentication(self, username, password):\n",
    "        try:\n",
    "            user_element = driver.find_element(By.XPATH, '//*[@id=\"userid\"]')\n",
    "            pass_element = driver.find_element(By.XPATH, '//*[@id=\"pwd\"]')\n",
    "            ActionChains(driver) \\\n",
    "                .click(user_element) \\\n",
    "                .key_down(Keys.CONTROL) \\\n",
    "                .send_keys(\"a\") \\\n",
    "                .key_up(Keys.CONTROL) \\\n",
    "                .send_keys(username)\\\n",
    "                .click(pass_element) \\\n",
    "                .key_down(Keys.CONTROL) \\\n",
    "                .send_keys(\"a\") \\\n",
    "                .key_up(Keys.CONTROL) \\\n",
    "                .send_keys(password)\\\n",
    "                .key_down(Keys.ENTER) \\\n",
    "                .perform()\n",
    "            \n",
    "            if \"errorCode\" in driver.current_url:\n",
    "                print(\"Authentication Failed\")\n",
    "                return False\n",
    "            return True\n",
    "        except NoSuchElementException:\n",
    "            print(\"Already Logged in\")\n",
    "        "
   ]
  },
  {
   "cell_type": "markdown",
   "metadata": {},
   "source": [
    "# OPEN THE GRADEBOOK BEFORE RUNNING SUCCEEDING"
   ]
  },
  {
   "cell_type": "code",
   "execution_count": 10,
   "metadata": {},
   "outputs": [],
   "source": [
    "driver.switch_to.frame(driver.find_element(By.NAME, \"TargetContent\"))\n",
    "table = driver.find_element(By.XPATH, '//table[@role=\"presentation\"]')\n",
    "inputs = table.find_elements(By.TAG_NAME, \"input\")\n",
    "element_names = [i.get_attribute(\"id\") for i in inputs if \"DERIVED_LAM_GRADE\" in i.get_attribute(\"id\")]\n",
    "students = [i.get_attribute(\"innerHTML\") for i in driver.find_elements(By.TAG_NAME, 'span') if \"HCR_PERSON_NM_I_NAME\" in i.get_attribute(\"id\")]\n",
    "desc = [i.get_attribute(\"innerHTML\") for i in driver.find_elements(By.TAG_NAME, 'span') if \"DERIVED_LAM_ASSIGNMENT_DESCR\" in i.get_attribute(\"id\")]"
   ]
  },
  {
   "cell_type": "code",
   "execution_count": 11,
   "metadata": {},
   "outputs": [],
   "source": [
    "df = pd.DataFrame({'Names':students})\n",
    "for i in desc:\n",
    "    df[i] = \"\"\n",
    "\n",
    "df.to_excel(\"format.xlsx\", index=False)"
   ]
  },
  {
   "cell_type": "code",
   "execution_count": 12,
   "metadata": {},
   "outputs": [
    {
     "name": "stderr",
     "output_type": "stream",
     "text": [
      "  0%|          | 0/189 [00:00<?, ?it/s]"
     ]
    },
    {
     "name": "stderr",
     "output_type": "stream",
     "text": [
      "100%|██████████| 189/189 [01:09<00:00,  2.72it/s]"
     ]
    },
    {
     "name": "stdout",
     "output_type": "stream",
     "text": [
      "Successfully imported all final grades.\n",
      " Please click on save\n"
     ]
    },
    {
     "name": "stderr",
     "output_type": "stream",
     "text": [
      "\n"
     ]
    }
   ],
   "source": [
    "saved_df = pd.read_excel(\"cem24_a.xlsx\")\n",
    "for name in tqdm(element_names):\n",
    "    try:\n",
    "        col, row = [int(i) for i in name[18:].split('$')]\n",
    "        grade = saved_df.iloc[row, col]\n",
    "        if pd.isna(grade):\n",
    "            continue\n",
    "        ActionChains(driver) \\\n",
    "        .click(driver.find_element(By.ID, name)) \\\n",
    "        .key_down(Keys.CONTROL) \\\n",
    "        .send_keys(\"a\") \\\n",
    "        .key_up(Keys.CONTROL) \\\n",
    "        .send_keys(f\"{round(grade,2)}\")\\\n",
    "        .click(driver.find_element(By.ID, name)) \\\n",
    "        .key_down(Keys.CONTROL) \\\n",
    "        .send_keys(\"a\") \\\n",
    "        .key_up(Keys.CONTROL) \\\n",
    "        .send_keys(f\"{round(grade,2)}\")\\\n",
    "        .perform()\n",
    "        \n",
    "    except StaleElementReferenceException:\n",
    "        print(\"StaleElementReferenceException\")\n",
    "        time.sleep(1)\n",
    "        ActionChains(driver) \\\n",
    "        .click(driver.find_element(By.ID, name)) \\\n",
    "        .key_down(Keys.CONTROL) \\\n",
    "        .send_keys(\"a\") \\\n",
    "        .key_up(Keys.CONTROL) \\\n",
    "        .send_keys(f\"{round(grade,2)}\")\\\n",
    "        .click(driver.find_element(By.ID, name)) \\\n",
    "        .key_down(Keys.CONTROL) \\\n",
    "        .send_keys(\"a\") \\\n",
    "        .key_up(Keys.CONTROL) \\\n",
    "        .send_keys(f\"{round(grade,2)}\")\\\n",
    "        .perform()\n",
    "\n",
    "print(\"Successfully imported all final grades.\\n Please click on save\")\n",
    "\n",
    "    # action = ActionBuilder(driver)\n",
    "    # action.pointer_action.move_to_location(8, 0)\n",
    "    # action.perform()"
   ]
  },
  {
   "cell_type": "code",
   "execution_count": 2,
   "metadata": {},
   "outputs": [
    {
     "data": {
      "text/plain": [
       "17"
      ]
     },
     "execution_count": 2,
     "metadata": {},
     "output_type": "execute_result"
    }
   ],
   "source": [
    "len(\"DERIVED_LAM_GRADE\")"
   ]
  },
  {
   "cell_type": "code",
   "execution_count": null,
   "metadata": {},
   "outputs": [],
   "source": []
  }
 ],
 "metadata": {
  "kernelspec": {
   "display_name": "Python 3",
   "language": "python",
   "name": "python3"
  },
  "language_info": {
   "codemirror_mode": {
    "name": "ipython",
    "version": 3
   },
   "file_extension": ".py",
   "mimetype": "text/x-python",
   "name": "python",
   "nbconvert_exporter": "python",
   "pygments_lexer": "ipython3",
   "version": "3.11.8"
  }
 },
 "nbformat": 4,
 "nbformat_minor": 2
}
